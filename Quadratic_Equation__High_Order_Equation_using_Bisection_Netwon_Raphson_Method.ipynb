{
 "cells": [
  {
   "cell_type": "code",
   "execution_count": 31,
   "metadata": {},
   "outputs": [
    {
     "name": "stdout",
     "output_type": "stream",
     "text": [
      "Enter the Values in format ax^2+bx+c=\n",
      "10 20 30\n",
      "The solution are (-1-1.4142135623730951j) and (-1+1.4142135623730951j)\n"
     ]
    }
   ],
   "source": [
    "#Quadratic Equation\n",
    "\n",
    "\n",
    "import cmath\n",
    "print('Enter the Values in format ax^2+bx+c=')\n",
    "a, b, c = map(int,input().split()) \n",
    "d = (b**2) - (4*a*c)\n",
    "sol1 = (-b-cmath.sqrt(d))/(2*a)\n",
    "sol2 = (-b+cmath.sqrt(d))/(2*a)\n",
    "print('The solution are {0} and {1}'.format(sol1,sol2))"
   ]
  },
  {
   "cell_type": "markdown",
   "metadata": {},
   "source": [
    "![title](image.png)"
   ]
  },
  {
   "cell_type": "code",
   "execution_count": 44,
   "metadata": {},
   "outputs": [
    {
     "name": "stdout",
     "output_type": "stream",
     "text": [
      "1.3247179572447458\n"
     ]
    }
   ],
   "source": [
    "#Bisection Method\n",
    "def bisection(f,a,b,N):\n",
    "    if f(a)*f(b) >= 0:\n",
    "        print(\"Bisection method fails.\")\n",
    "        return None\n",
    "    a_n = a\n",
    "    b_n = b\n",
    "    for n in range(1,N+1):\n",
    "        m_n = (a_n + b_n)/2\n",
    "        f_m_n = f(m_n)\n",
    "        if f(a_n)*f_m_n < 0:\n",
    "            a_n = a_n\n",
    "            b_n = m_n\n",
    "        elif f(b_n)*f_m_n < 0:\n",
    "            a_n = m_n\n",
    "            b_n = b_n\n",
    "        elif f_m_n == 0:\n",
    "            print(\"Found exact solution.\")\n",
    "            return m_n\n",
    "        else:\n",
    "            print(\"Bisection method fails.\")\n",
    "            return None\n",
    "    return (a_n + b_n)/2\n",
    "f = lambda x: x**3 - x - 1 #put your Equation Here\n",
    "for i in range(0,50):\n",
    "    if f(i)>0:\n",
    "        b = i\n",
    "        a = i-1\n",
    "        break\n",
    "N=2500000\n",
    "approx_phi = bisection(f,a,b,N)\n",
    "print(approx_phi)"
   ]
  },
  {
   "cell_type": "code",
   "execution_count": 26,
   "metadata": {
    "scrolled": true
   },
   "outputs": [
    {
     "name": "stdout",
     "output_type": "stream",
     "text": [
      "2\n"
     ]
    }
   ],
   "source": [
    "f = lambda x: x**2 - x - 1\n",
    "for i in range(0,5):\n",
    "    if f(i)>0:\n",
    "        print(i)\n",
    "        break"
   ]
  },
  {
   "cell_type": "code",
   "execution_count": 56,
   "metadata": {},
   "outputs": [
    {
     "name": "stdout",
     "output_type": "stream",
     "text": [
      "The value of the root is :  1.6180\n"
     ]
    }
   ],
   "source": [
    "func = lambda x:x**2-x-1 #put your equation here\n",
    "derivFunc = lambda x:2*x-1 #put your derivative of eqaution here\n",
    "\n",
    "def newtonRaphson(x,func,derivFunc): \n",
    "    h = func(x) / derivFunc(x) \n",
    "    while abs(h) >= 0.000000001: \n",
    "        h = func(x)/derivFunc(x) \n",
    "        x = x - h     \n",
    "    print(\"The value of the root is : \", \"%.4f\"%x) \n",
    "for i in range(0,100):\n",
    "    if func(i)<0 and derivFunc(i)>0:\n",
    "        x0=i\n",
    "newtonRaphson(x0,func,derivFunc) "
   ]
  }
 ],
 "metadata": {
  "kernelspec": {
   "display_name": "Python 3",
   "language": "python",
   "name": "python3"
  },
  "language_info": {
   "codemirror_mode": {
    "name": "ipython",
    "version": 3
   },
   "file_extension": ".py",
   "mimetype": "text/x-python",
   "name": "python",
   "nbconvert_exporter": "python",
   "pygments_lexer": "ipython3",
   "version": "3.6.5"
  }
 },
 "nbformat": 4,
 "nbformat_minor": 2
}
